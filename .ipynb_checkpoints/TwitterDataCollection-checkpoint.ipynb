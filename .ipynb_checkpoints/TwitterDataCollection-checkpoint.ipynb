{
 "cells": [
  {
   "cell_type": "code",
   "execution_count": null,
   "metadata": {
    "collapsed": true
   },
   "outputs": [],
   "source": [
    "import json\n",
    "\n",
    "# Enter your keys/secrets as strings in the following fields\n",
    "credentials = {}\n",
    "credentials['CONSUMER_KEY'] = 'iJBfq6XchKhZhDg0o18skYNyp'\n",
    "credentials['CONSUMER_SECRET'] = '7TEHyXMU6XDgHUaR2XT29VowsrIyBpB5rOtFx2Gi18FYJjBtJh'\n",
    "credentials['ACCESS_TOKEN'] = '2725236026-an7z9tJ9HhJwIRljfETkRNup7LJG3d2iULt9Ija'\n",
    "credentials['ACCESS_SECRET'] = '3o4tELrjgwiM7jyx2QzP8PRxoYnIz6O3BRusDG5Qq2CW4'\n",
    " \n",
    "# Save the credentials object to file\n",
    "with open(\"twitter_credentials.json\", \"w\") as file:  \n",
    "    json.dump(credentials, file)"
   ]
  }
 ],
 "metadata": {
  "kernelspec": {
   "display_name": "Python 3",
   "language": "python",
   "name": "python3"
  },
  "language_info": {
   "codemirror_mode": {
    "name": "ipython",
    "version": 3
   },
   "file_extension": ".py",
   "mimetype": "text/x-python",
   "name": "python",
   "nbconvert_exporter": "python",
   "pygments_lexer": "ipython3",
   "version": "3.5.3"
  }
 },
 "nbformat": 4,
 "nbformat_minor": 0
}
