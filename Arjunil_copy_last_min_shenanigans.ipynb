{
  "nbformat": 4,
  "nbformat_minor": 0,
  "metadata": {
    "colab": {
      "name": "last_min_shenanigans.ipynb",
      "version": "0.3.2",
      "provenance": [],
      "collapsed_sections": [],
      "include_colab_link": true
    },
    "kernelspec": {
      "name": "python3",
      "display_name": "Python 3"
    }
  },
  "cells": [
    {
      "cell_type": "markdown",
      "metadata": {
        "id": "view-in-github",
        "colab_type": "text"
      },
      "source": [
        "<a href=\"https://colab.research.google.com/github/Nhrkr/Predicting-Social-Unrest/blob/master/Arjunil_copy_last_min_shenanigans.ipynb\" target=\"_parent\"><img src=\"https://colab.research.google.com/assets/colab-badge.svg\" alt=\"Open In Colab\"/></a>"
      ]
    },
    {
      "metadata": {
        "id": "Ae2fsQKv_Tuj",
        "colab_type": "code",
        "colab": {}
      },
      "cell_type": "code",
      "source": [
        "import math\n",
        "import numpy as np\n",
        "import matplotlib.pyplot as plt\n",
        "import pandas as pd\n",
        "from keras.models import Sequential\n",
        "from keras.layers import Dense\n",
        "from keras.layers import LSTM\n",
        "from sklearn.preprocessing import MinMaxScaler\n",
        "from sklearn.metrics import mean_squared_error\n",
        "\n",
        "def create_data_set(_data_set, _look_back=1):\n",
        "    data_x, data_y = [], []\n",
        "    for i in range(len(_data_set) - _look_back - 1):\n",
        "        a = _data_set[i:(i + _look_back), 0]\n",
        "        data_x.append(a)\n",
        "        data_y.append(_data_set[i + _look_back, 0])\n",
        "    return np.array(data_x), np.array(data_y)\n",
        "\n",
        "\n"
      ],
      "execution_count": 0,
      "outputs": []
    },
    {
      "metadata": {
        "id": "LUEEZm5l_ye6",
        "colab_type": "code",
        "colab": {}
      },
      "cell_type": "code",
      "source": [
        "data= pd.read_csv('https://raw.githubusercontent.com/Nhrkr/Predicting-Social-Unrest/master/acled_all.csv')\n",
        "data=data[~data.data_id.duplicated(keep='first')]"
      ],
      "execution_count": 0,
      "outputs": []
    },
    {
      "metadata": {
        "id": "FRGIHElXAfvi",
        "colab_type": "code",
        "outputId": "9831672e-9eeb-45ed-f105-d8085e6a23e9",
        "colab": {
          "base_uri": "https://localhost:8080/",
          "height": 204
        }
      },
      "cell_type": "code",
      "source": [
        "data.head()"
      ],
      "execution_count": 0,
      "outputs": [
        {
          "output_type": "execute_result",
          "data": {
            "text/html": [
              "<div>\n",
              "<style scoped>\n",
              "    .dataframe tbody tr th:only-of-type {\n",
              "        vertical-align: middle;\n",
              "    }\n",
              "\n",
              "    .dataframe tbody tr th {\n",
              "        vertical-align: top;\n",
              "    }\n",
              "\n",
              "    .dataframe thead th {\n",
              "        text-align: right;\n",
              "    }\n",
              "</style>\n",
              "<table border=\"1\" class=\"dataframe\">\n",
              "  <thead>\n",
              "    <tr style=\"text-align: right;\">\n",
              "      <th></th>\n",
              "      <th>data_id</th>\n",
              "      <th>event_type</th>\n",
              "      <th>sub_event_type</th>\n",
              "      <th>actor1</th>\n",
              "      <th>interaction</th>\n",
              "      <th>admin1</th>\n",
              "      <th>fatalities</th>\n",
              "      <th>timestamp</th>\n",
              "    </tr>\n",
              "  </thead>\n",
              "  <tbody>\n",
              "    <tr>\n",
              "      <th>0</th>\n",
              "      <td>4576055</td>\n",
              "      <td>Riots</td>\n",
              "      <td>Mob violence</td>\n",
              "      <td>Rioters (India)</td>\n",
              "      <td>15</td>\n",
              "      <td>Kerala</td>\n",
              "      <td>0</td>\n",
              "      <td>1552576416</td>\n",
              "    </tr>\n",
              "    <tr>\n",
              "      <th>2</th>\n",
              "      <td>4576056</td>\n",
              "      <td>Riots</td>\n",
              "      <td>Mob violence</td>\n",
              "      <td>Rioters (India)</td>\n",
              "      <td>57</td>\n",
              "      <td>Assam</td>\n",
              "      <td>0</td>\n",
              "      <td>1552576416</td>\n",
              "    </tr>\n",
              "    <tr>\n",
              "      <th>4</th>\n",
              "      <td>4576057</td>\n",
              "      <td>Strategic developments</td>\n",
              "      <td>Disrupted weapons use</td>\n",
              "      <td>IUML: Indian Union Muslim League</td>\n",
              "      <td>30</td>\n",
              "      <td>Kerala</td>\n",
              "      <td>0</td>\n",
              "      <td>1552576416</td>\n",
              "    </tr>\n",
              "    <tr>\n",
              "      <th>5</th>\n",
              "      <td>4576058</td>\n",
              "      <td>Violence against civilians</td>\n",
              "      <td>Attack</td>\n",
              "      <td>Unidentified Armed Group (India)</td>\n",
              "      <td>37</td>\n",
              "      <td>Bihar</td>\n",
              "      <td>1</td>\n",
              "      <td>1552576416</td>\n",
              "    </tr>\n",
              "    <tr>\n",
              "      <th>7</th>\n",
              "      <td>4576059</td>\n",
              "      <td>Violence against civilians</td>\n",
              "      <td>Attack</td>\n",
              "      <td>Mambapur Communal Militia (India)</td>\n",
              "      <td>47</td>\n",
              "      <td>Telangana</td>\n",
              "      <td>1</td>\n",
              "      <td>1552576416</td>\n",
              "    </tr>\n",
              "  </tbody>\n",
              "</table>\n",
              "</div>"
            ],
            "text/plain": [
              "   data_id                  event_type         sub_event_type  \\\n",
              "0  4576055                       Riots           Mob violence   \n",
              "2  4576056                       Riots           Mob violence   \n",
              "4  4576057      Strategic developments  Disrupted weapons use   \n",
              "5  4576058  Violence against civilians                 Attack   \n",
              "7  4576059  Violence against civilians                 Attack   \n",
              "\n",
              "                              actor1  interaction     admin1  fatalities  \\\n",
              "0                    Rioters (India)           15     Kerala           0   \n",
              "2                    Rioters (India)           57      Assam           0   \n",
              "4   IUML: Indian Union Muslim League           30     Kerala           0   \n",
              "5   Unidentified Armed Group (India)           37      Bihar           1   \n",
              "7  Mambapur Communal Militia (India)           47  Telangana           1   \n",
              "\n",
              "    timestamp  \n",
              "0  1552576416  \n",
              "2  1552576416  \n",
              "4  1552576416  \n",
              "5  1552576416  \n",
              "7  1552576416  "
            ]
          },
          "metadata": {
            "tags": []
          },
          "execution_count": 13
        }
      ]
    },
    {
      "metadata": {
        "id": "WUmzuFD8AhDY",
        "colab_type": "code",
        "colab": {}
      },
      "cell_type": "code",
      "source": [
        "from sklearn import preprocessing\n",
        "le = preprocessing.LabelEncoder()\n",
        "enc = preprocessing.OneHotEncoder()\n",
        "from sklearn.compose import ColumnTransformer"
      ],
      "execution_count": 0,
      "outputs": []
    },
    {
      "metadata": {
        "id": "cA0K6q0vBIl8",
        "colab_type": "code",
        "outputId": "11b91e33-92d7-4a9c-8dbd-bf0b5f80f127",
        "colab": {
          "base_uri": "https://localhost:8080/",
          "height": 34
        }
      },
      "cell_type": "code",
      "source": [
        "ct = ColumnTransformer(\n",
        "    [('data', preprocessing.OneHotEncoder(sparse=False), ['event_type','sub_event_type','actor1','interaction', 'admin1']),],  # the column numbers I want to apply this to\n",
        "#     remainder='passthrough'  # This leaves the rest of my columns in place\n",
        ")\n",
        "features_onehot= ct.fit_transform(data)\n",
        "features_onehot= pd.DataFrame(features_onehot, columns= ct.get_feature_names())\n",
        "print(type(features_onehot))"
      ],
      "execution_count": 0,
      "outputs": [
        {
          "output_type": "stream",
          "text": [
            "<class 'pandas.core.frame.DataFrame'>\n"
          ],
          "name": "stdout"
        }
      ]
    },
    {
      "metadata": {
        "id": "ZjQazZGSBZqa",
        "colab_type": "code",
        "colab": {}
      },
      "cell_type": "code",
      "source": [
        "features_onehot=features_onehot.astype(float)"
      ],
      "execution_count": 0,
      "outputs": []
    },
    {
      "metadata": {
        "id": "uUZwzmlIBdhM",
        "colab_type": "code",
        "colab": {}
      },
      "cell_type": "code",
      "source": [
        "timestamps= pd.DataFrame(pd.to_datetime(data['timestamp'], unit='s'))"
      ],
      "execution_count": 0,
      "outputs": []
    },
    {
      "metadata": {
        "id": "MnDVFUUBBmV7",
        "colab_type": "code",
        "outputId": "13f8b414-733b-4e7a-fa2c-3c61b5c01d08",
        "colab": {
          "base_uri": "https://localhost:8080/",
          "height": 204
        }
      },
      "cell_type": "code",
      "source": [
        "timestamps.head()"
      ],
      "execution_count": 0,
      "outputs": [
        {
          "output_type": "execute_result",
          "data": {
            "text/html": [
              "<div>\n",
              "<style scoped>\n",
              "    .dataframe tbody tr th:only-of-type {\n",
              "        vertical-align: middle;\n",
              "    }\n",
              "\n",
              "    .dataframe tbody tr th {\n",
              "        vertical-align: top;\n",
              "    }\n",
              "\n",
              "    .dataframe thead th {\n",
              "        text-align: right;\n",
              "    }\n",
              "</style>\n",
              "<table border=\"1\" class=\"dataframe\">\n",
              "  <thead>\n",
              "    <tr style=\"text-align: right;\">\n",
              "      <th></th>\n",
              "      <th>timestamp</th>\n",
              "    </tr>\n",
              "  </thead>\n",
              "  <tbody>\n",
              "    <tr>\n",
              "      <th>0</th>\n",
              "      <td>2019-03-14 15:13:36</td>\n",
              "    </tr>\n",
              "    <tr>\n",
              "      <th>2</th>\n",
              "      <td>2019-03-14 15:13:36</td>\n",
              "    </tr>\n",
              "    <tr>\n",
              "      <th>4</th>\n",
              "      <td>2019-03-14 15:13:36</td>\n",
              "    </tr>\n",
              "    <tr>\n",
              "      <th>5</th>\n",
              "      <td>2019-03-14 15:13:36</td>\n",
              "    </tr>\n",
              "    <tr>\n",
              "      <th>7</th>\n",
              "      <td>2019-03-14 15:13:36</td>\n",
              "    </tr>\n",
              "  </tbody>\n",
              "</table>\n",
              "</div>"
            ],
            "text/plain": [
              "            timestamp\n",
              "0 2019-03-14 15:13:36\n",
              "2 2019-03-14 15:13:36\n",
              "4 2019-03-14 15:13:36\n",
              "5 2019-03-14 15:13:36\n",
              "7 2019-03-14 15:13:36"
            ]
          },
          "metadata": {
            "tags": []
          },
          "execution_count": 39
        }
      ]
    },
    {
      "metadata": {
        "id": "6xRj-64jBoZR",
        "colab_type": "code",
        "colab": {}
      },
      "cell_type": "code",
      "source": [
        "final_df= timestamps.join(features_onehot)"
      ],
      "execution_count": 0,
      "outputs": []
    },
    {
      "metadata": {
        "id": "em2qmnKWB-uT",
        "colab_type": "code",
        "outputId": "b1079853-ef8d-4ffa-ac4a-1b64313966ae",
        "colab": {
          "base_uri": "https://localhost:8080/",
          "height": 440
        }
      },
      "cell_type": "code",
      "source": [
        "final_df.head()"
      ],
      "execution_count": 0,
      "outputs": [
        {
          "output_type": "execute_result",
          "data": {
            "text/html": [
              "<div>\n",
              "<style scoped>\n",
              "    .dataframe tbody tr th:only-of-type {\n",
              "        vertical-align: middle;\n",
              "    }\n",
              "\n",
              "    .dataframe tbody tr th {\n",
              "        vertical-align: top;\n",
              "    }\n",
              "\n",
              "    .dataframe thead th {\n",
              "        text-align: right;\n",
              "    }\n",
              "</style>\n",
              "<table border=\"1\" class=\"dataframe\">\n",
              "  <thead>\n",
              "    <tr style=\"text-align: right;\">\n",
              "      <th></th>\n",
              "      <th>timestamp</th>\n",
              "      <th>data__x0_Battles</th>\n",
              "      <th>data__x0_Explosions/Remote violence</th>\n",
              "      <th>data__x0_Protests</th>\n",
              "      <th>data__x0_Riots</th>\n",
              "      <th>data__x0_Strategic development</th>\n",
              "      <th>data__x0_Strategic developments</th>\n",
              "      <th>data__x0_Violence against civilians</th>\n",
              "      <th>data__x1_Abduction/forced disappearance</th>\n",
              "      <th>data__x1_Agreement</th>\n",
              "      <th>...</th>\n",
              "      <th>data__x4_Puducherry</th>\n",
              "      <th>data__x4_Punjab</th>\n",
              "      <th>data__x4_Rajasthan</th>\n",
              "      <th>data__x4_Sikkim</th>\n",
              "      <th>data__x4_Tamil Nadu</th>\n",
              "      <th>data__x4_Telangana</th>\n",
              "      <th>data__x4_Tripura</th>\n",
              "      <th>data__x4_Uttar Pradesh</th>\n",
              "      <th>data__x4_Uttarakhand</th>\n",
              "      <th>data__x4_West Bengal</th>\n",
              "    </tr>\n",
              "  </thead>\n",
              "  <tbody>\n",
              "    <tr>\n",
              "      <th>0</th>\n",
              "      <td>2019-03-14 15:13:36</td>\n",
              "      <td>0.0</td>\n",
              "      <td>0.0</td>\n",
              "      <td>0.0</td>\n",
              "      <td>1.0</td>\n",
              "      <td>0.0</td>\n",
              "      <td>0.0</td>\n",
              "      <td>0.0</td>\n",
              "      <td>0.0</td>\n",
              "      <td>0.0</td>\n",
              "      <td>...</td>\n",
              "      <td>0.0</td>\n",
              "      <td>0.0</td>\n",
              "      <td>0.0</td>\n",
              "      <td>0.0</td>\n",
              "      <td>0.0</td>\n",
              "      <td>0.0</td>\n",
              "      <td>0.0</td>\n",
              "      <td>0.0</td>\n",
              "      <td>0.0</td>\n",
              "      <td>0.0</td>\n",
              "    </tr>\n",
              "    <tr>\n",
              "      <th>2</th>\n",
              "      <td>2019-03-14 15:13:36</td>\n",
              "      <td>0.0</td>\n",
              "      <td>0.0</td>\n",
              "      <td>0.0</td>\n",
              "      <td>0.0</td>\n",
              "      <td>0.0</td>\n",
              "      <td>1.0</td>\n",
              "      <td>0.0</td>\n",
              "      <td>0.0</td>\n",
              "      <td>0.0</td>\n",
              "      <td>...</td>\n",
              "      <td>0.0</td>\n",
              "      <td>0.0</td>\n",
              "      <td>0.0</td>\n",
              "      <td>0.0</td>\n",
              "      <td>0.0</td>\n",
              "      <td>0.0</td>\n",
              "      <td>0.0</td>\n",
              "      <td>0.0</td>\n",
              "      <td>0.0</td>\n",
              "      <td>0.0</td>\n",
              "    </tr>\n",
              "    <tr>\n",
              "      <th>4</th>\n",
              "      <td>2019-03-14 15:13:36</td>\n",
              "      <td>0.0</td>\n",
              "      <td>0.0</td>\n",
              "      <td>0.0</td>\n",
              "      <td>0.0</td>\n",
              "      <td>0.0</td>\n",
              "      <td>0.0</td>\n",
              "      <td>1.0</td>\n",
              "      <td>0.0</td>\n",
              "      <td>0.0</td>\n",
              "      <td>...</td>\n",
              "      <td>0.0</td>\n",
              "      <td>0.0</td>\n",
              "      <td>0.0</td>\n",
              "      <td>0.0</td>\n",
              "      <td>0.0</td>\n",
              "      <td>1.0</td>\n",
              "      <td>0.0</td>\n",
              "      <td>0.0</td>\n",
              "      <td>0.0</td>\n",
              "      <td>0.0</td>\n",
              "    </tr>\n",
              "    <tr>\n",
              "      <th>5</th>\n",
              "      <td>2019-03-14 15:13:36</td>\n",
              "      <td>0.0</td>\n",
              "      <td>0.0</td>\n",
              "      <td>1.0</td>\n",
              "      <td>0.0</td>\n",
              "      <td>0.0</td>\n",
              "      <td>0.0</td>\n",
              "      <td>0.0</td>\n",
              "      <td>0.0</td>\n",
              "      <td>0.0</td>\n",
              "      <td>...</td>\n",
              "      <td>0.0</td>\n",
              "      <td>0.0</td>\n",
              "      <td>0.0</td>\n",
              "      <td>0.0</td>\n",
              "      <td>0.0</td>\n",
              "      <td>0.0</td>\n",
              "      <td>0.0</td>\n",
              "      <td>0.0</td>\n",
              "      <td>0.0</td>\n",
              "      <td>0.0</td>\n",
              "    </tr>\n",
              "    <tr>\n",
              "      <th>7</th>\n",
              "      <td>2019-03-14 15:13:36</td>\n",
              "      <td>0.0</td>\n",
              "      <td>0.0</td>\n",
              "      <td>1.0</td>\n",
              "      <td>0.0</td>\n",
              "      <td>0.0</td>\n",
              "      <td>0.0</td>\n",
              "      <td>0.0</td>\n",
              "      <td>0.0</td>\n",
              "      <td>0.0</td>\n",
              "      <td>...</td>\n",
              "      <td>0.0</td>\n",
              "      <td>0.0</td>\n",
              "      <td>0.0</td>\n",
              "      <td>0.0</td>\n",
              "      <td>0.0</td>\n",
              "      <td>0.0</td>\n",
              "      <td>0.0</td>\n",
              "      <td>0.0</td>\n",
              "      <td>0.0</td>\n",
              "      <td>0.0</td>\n",
              "    </tr>\n",
              "  </tbody>\n",
              "</table>\n",
              "<p>5 rows × 519 columns</p>\n",
              "</div>"
            ],
            "text/plain": [
              "            timestamp  data__x0_Battles  data__x0_Explosions/Remote violence  \\\n",
              "0 2019-03-14 15:13:36               0.0                                  0.0   \n",
              "2 2019-03-14 15:13:36               0.0                                  0.0   \n",
              "4 2019-03-14 15:13:36               0.0                                  0.0   \n",
              "5 2019-03-14 15:13:36               0.0                                  0.0   \n",
              "7 2019-03-14 15:13:36               0.0                                  0.0   \n",
              "\n",
              "   data__x0_Protests  data__x0_Riots  data__x0_Strategic development  \\\n",
              "0                0.0             1.0                             0.0   \n",
              "2                0.0             0.0                             0.0   \n",
              "4                0.0             0.0                             0.0   \n",
              "5                1.0             0.0                             0.0   \n",
              "7                1.0             0.0                             0.0   \n",
              "\n",
              "   data__x0_Strategic developments  data__x0_Violence against civilians  \\\n",
              "0                              0.0                                  0.0   \n",
              "2                              1.0                                  0.0   \n",
              "4                              0.0                                  1.0   \n",
              "5                              0.0                                  0.0   \n",
              "7                              0.0                                  0.0   \n",
              "\n",
              "   data__x1_Abduction/forced disappearance  data__x1_Agreement  \\\n",
              "0                                      0.0                 0.0   \n",
              "2                                      0.0                 0.0   \n",
              "4                                      0.0                 0.0   \n",
              "5                                      0.0                 0.0   \n",
              "7                                      0.0                 0.0   \n",
              "\n",
              "           ...           data__x4_Puducherry  data__x4_Punjab  \\\n",
              "0          ...                           0.0              0.0   \n",
              "2          ...                           0.0              0.0   \n",
              "4          ...                           0.0              0.0   \n",
              "5          ...                           0.0              0.0   \n",
              "7          ...                           0.0              0.0   \n",
              "\n",
              "   data__x4_Rajasthan  data__x4_Sikkim  data__x4_Tamil Nadu  \\\n",
              "0                 0.0              0.0                  0.0   \n",
              "2                 0.0              0.0                  0.0   \n",
              "4                 0.0              0.0                  0.0   \n",
              "5                 0.0              0.0                  0.0   \n",
              "7                 0.0              0.0                  0.0   \n",
              "\n",
              "   data__x4_Telangana  data__x4_Tripura  data__x4_Uttar Pradesh  \\\n",
              "0                 0.0               0.0                     0.0   \n",
              "2                 0.0               0.0                     0.0   \n",
              "4                 1.0               0.0                     0.0   \n",
              "5                 0.0               0.0                     0.0   \n",
              "7                 0.0               0.0                     0.0   \n",
              "\n",
              "   data__x4_Uttarakhand  data__x4_West Bengal  \n",
              "0                   0.0                   0.0  \n",
              "2                   0.0                   0.0  \n",
              "4                   0.0                   0.0  \n",
              "5                   0.0                   0.0  \n",
              "7                   0.0                   0.0  \n",
              "\n",
              "[5 rows x 519 columns]"
            ]
          },
          "metadata": {
            "tags": []
          },
          "execution_count": 41
        }
      ]
    },
    {
      "metadata": {
        "id": "aEwCtNdiCTJl",
        "colab_type": "code",
        "outputId": "2d444a4b-2cfb-4b9e-dc85-03b05b3e91f1",
        "colab": {
          "base_uri": "https://localhost:8080/",
          "height": 639
        }
      },
      "cell_type": "code",
      "source": [
        "x, y= create_data_set(final_df)"
      ],
      "execution_count": 0,
      "outputs": [
        {
          "output_type": "error",
          "ename": "TypeError",
          "evalue": "ignored",
          "traceback": [
            "\u001b[0;31m---------------------------------------------------------------------------\u001b[0m",
            "\u001b[0;31mTypeError\u001b[0m                                 Traceback (most recent call last)",
            "\u001b[0;32m<ipython-input-31-5652cac17e86>\u001b[0m in \u001b[0;36m<module>\u001b[0;34m()\u001b[0m\n\u001b[0;32m----> 1\u001b[0;31m \u001b[0mx\u001b[0m\u001b[0;34m,\u001b[0m \u001b[0my\u001b[0m\u001b[0;34m=\u001b[0m \u001b[0mcreate_data_set\u001b[0m\u001b[0;34m(\u001b[0m\u001b[0mfinal_df\u001b[0m\u001b[0;34m)\u001b[0m\u001b[0;34m\u001b[0m\u001b[0;34m\u001b[0m\u001b[0m\n\u001b[0m",
            "\u001b[0;32m<ipython-input-7-e891796a7888>\u001b[0m in \u001b[0;36mcreate_data_set\u001b[0;34m(_data_set, _look_back)\u001b[0m\n\u001b[1;32m     12\u001b[0m     \u001b[0mdata_x\u001b[0m\u001b[0;34m,\u001b[0m \u001b[0mdata_y\u001b[0m \u001b[0;34m=\u001b[0m \u001b[0;34m[\u001b[0m\u001b[0;34m]\u001b[0m\u001b[0;34m,\u001b[0m \u001b[0;34m[\u001b[0m\u001b[0;34m]\u001b[0m\u001b[0;34m\u001b[0m\u001b[0;34m\u001b[0m\u001b[0m\n\u001b[1;32m     13\u001b[0m     \u001b[0;32mfor\u001b[0m \u001b[0mi\u001b[0m \u001b[0;32min\u001b[0m \u001b[0mrange\u001b[0m\u001b[0;34m(\u001b[0m\u001b[0mlen\u001b[0m\u001b[0;34m(\u001b[0m\u001b[0m_data_set\u001b[0m\u001b[0;34m)\u001b[0m \u001b[0;34m-\u001b[0m \u001b[0m_look_back\u001b[0m \u001b[0;34m-\u001b[0m \u001b[0;36m1\u001b[0m\u001b[0;34m)\u001b[0m\u001b[0;34m:\u001b[0m\u001b[0;34m\u001b[0m\u001b[0;34m\u001b[0m\u001b[0m\n\u001b[0;32m---> 14\u001b[0;31m         \u001b[0ma\u001b[0m \u001b[0;34m=\u001b[0m \u001b[0m_data_set\u001b[0m\u001b[0;34m[\u001b[0m\u001b[0mi\u001b[0m\u001b[0;34m:\u001b[0m\u001b[0;34m(\u001b[0m\u001b[0mi\u001b[0m \u001b[0;34m+\u001b[0m \u001b[0m_look_back\u001b[0m\u001b[0;34m)\u001b[0m\u001b[0;34m,\u001b[0m \u001b[0;36m0\u001b[0m\u001b[0;34m]\u001b[0m\u001b[0;34m\u001b[0m\u001b[0;34m\u001b[0m\u001b[0m\n\u001b[0m\u001b[1;32m     15\u001b[0m         \u001b[0mdata_x\u001b[0m\u001b[0;34m.\u001b[0m\u001b[0mappend\u001b[0m\u001b[0;34m(\u001b[0m\u001b[0ma\u001b[0m\u001b[0;34m)\u001b[0m\u001b[0;34m\u001b[0m\u001b[0;34m\u001b[0m\u001b[0m\n\u001b[1;32m     16\u001b[0m         \u001b[0mdata_y\u001b[0m\u001b[0;34m.\u001b[0m\u001b[0mappend\u001b[0m\u001b[0;34m(\u001b[0m\u001b[0m_data_set\u001b[0m\u001b[0;34m[\u001b[0m\u001b[0mi\u001b[0m \u001b[0;34m+\u001b[0m \u001b[0m_look_back\u001b[0m\u001b[0;34m,\u001b[0m \u001b[0;36m0\u001b[0m\u001b[0;34m]\u001b[0m\u001b[0;34m)\u001b[0m\u001b[0;34m\u001b[0m\u001b[0;34m\u001b[0m\u001b[0m\n",
            "\u001b[0;32m/usr/local/lib/python3.6/dist-packages/pandas/core/frame.py\u001b[0m in \u001b[0;36m__getitem__\u001b[0;34m(self, key)\u001b[0m\n\u001b[1;32m   2686\u001b[0m             \u001b[0;32mreturn\u001b[0m \u001b[0mself\u001b[0m\u001b[0;34m.\u001b[0m\u001b[0m_getitem_multilevel\u001b[0m\u001b[0;34m(\u001b[0m\u001b[0mkey\u001b[0m\u001b[0;34m)\u001b[0m\u001b[0;34m\u001b[0m\u001b[0;34m\u001b[0m\u001b[0m\n\u001b[1;32m   2687\u001b[0m         \u001b[0;32melse\u001b[0m\u001b[0;34m:\u001b[0m\u001b[0;34m\u001b[0m\u001b[0;34m\u001b[0m\u001b[0m\n\u001b[0;32m-> 2688\u001b[0;31m             \u001b[0;32mreturn\u001b[0m \u001b[0mself\u001b[0m\u001b[0;34m.\u001b[0m\u001b[0m_getitem_column\u001b[0m\u001b[0;34m(\u001b[0m\u001b[0mkey\u001b[0m\u001b[0;34m)\u001b[0m\u001b[0;34m\u001b[0m\u001b[0;34m\u001b[0m\u001b[0m\n\u001b[0m\u001b[1;32m   2689\u001b[0m \u001b[0;34m\u001b[0m\u001b[0m\n\u001b[1;32m   2690\u001b[0m     \u001b[0;32mdef\u001b[0m \u001b[0m_getitem_column\u001b[0m\u001b[0;34m(\u001b[0m\u001b[0mself\u001b[0m\u001b[0;34m,\u001b[0m \u001b[0mkey\u001b[0m\u001b[0;34m)\u001b[0m\u001b[0;34m:\u001b[0m\u001b[0;34m\u001b[0m\u001b[0;34m\u001b[0m\u001b[0m\n",
            "\u001b[0;32m/usr/local/lib/python3.6/dist-packages/pandas/core/frame.py\u001b[0m in \u001b[0;36m_getitem_column\u001b[0;34m(self, key)\u001b[0m\n\u001b[1;32m   2693\u001b[0m         \u001b[0;31m# get column\u001b[0m\u001b[0;34m\u001b[0m\u001b[0;34m\u001b[0m\u001b[0;34m\u001b[0m\u001b[0m\n\u001b[1;32m   2694\u001b[0m         \u001b[0;32mif\u001b[0m \u001b[0mself\u001b[0m\u001b[0;34m.\u001b[0m\u001b[0mcolumns\u001b[0m\u001b[0;34m.\u001b[0m\u001b[0mis_unique\u001b[0m\u001b[0;34m:\u001b[0m\u001b[0;34m\u001b[0m\u001b[0;34m\u001b[0m\u001b[0m\n\u001b[0;32m-> 2695\u001b[0;31m             \u001b[0;32mreturn\u001b[0m \u001b[0mself\u001b[0m\u001b[0;34m.\u001b[0m\u001b[0m_get_item_cache\u001b[0m\u001b[0;34m(\u001b[0m\u001b[0mkey\u001b[0m\u001b[0;34m)\u001b[0m\u001b[0;34m\u001b[0m\u001b[0;34m\u001b[0m\u001b[0m\n\u001b[0m\u001b[1;32m   2696\u001b[0m \u001b[0;34m\u001b[0m\u001b[0m\n\u001b[1;32m   2697\u001b[0m         \u001b[0;31m# duplicate columns & possible reduce dimensionality\u001b[0m\u001b[0;34m\u001b[0m\u001b[0;34m\u001b[0m\u001b[0;34m\u001b[0m\u001b[0m\n",
            "\u001b[0;32m/usr/local/lib/python3.6/dist-packages/pandas/core/generic.py\u001b[0m in \u001b[0;36m_get_item_cache\u001b[0;34m(self, item)\u001b[0m\n\u001b[1;32m   2485\u001b[0m         \u001b[0;34m\"\"\"Return the cached item, item represents a label indexer.\"\"\"\u001b[0m\u001b[0;34m\u001b[0m\u001b[0;34m\u001b[0m\u001b[0m\n\u001b[1;32m   2486\u001b[0m         \u001b[0mcache\u001b[0m \u001b[0;34m=\u001b[0m \u001b[0mself\u001b[0m\u001b[0;34m.\u001b[0m\u001b[0m_item_cache\u001b[0m\u001b[0;34m\u001b[0m\u001b[0;34m\u001b[0m\u001b[0m\n\u001b[0;32m-> 2487\u001b[0;31m         \u001b[0mres\u001b[0m \u001b[0;34m=\u001b[0m \u001b[0mcache\u001b[0m\u001b[0;34m.\u001b[0m\u001b[0mget\u001b[0m\u001b[0;34m(\u001b[0m\u001b[0mitem\u001b[0m\u001b[0;34m)\u001b[0m\u001b[0;34m\u001b[0m\u001b[0;34m\u001b[0m\u001b[0m\n\u001b[0m\u001b[1;32m   2488\u001b[0m         \u001b[0;32mif\u001b[0m \u001b[0mres\u001b[0m \u001b[0;32mis\u001b[0m \u001b[0;32mNone\u001b[0m\u001b[0;34m:\u001b[0m\u001b[0;34m\u001b[0m\u001b[0;34m\u001b[0m\u001b[0m\n\u001b[1;32m   2489\u001b[0m             \u001b[0mvalues\u001b[0m \u001b[0;34m=\u001b[0m \u001b[0mself\u001b[0m\u001b[0;34m.\u001b[0m\u001b[0m_data\u001b[0m\u001b[0;34m.\u001b[0m\u001b[0mget\u001b[0m\u001b[0;34m(\u001b[0m\u001b[0mitem\u001b[0m\u001b[0;34m)\u001b[0m\u001b[0;34m\u001b[0m\u001b[0;34m\u001b[0m\u001b[0m\n",
            "\u001b[0;31mTypeError\u001b[0m: unhashable type: 'slice'"
          ]
        }
      ]
    },
    {
      "metadata": {
        "id": "PF6l9z3TCdNy",
        "colab_type": "code",
        "outputId": "61169347-e6d9-4528-af3c-517fb8902dca",
        "colab": {
          "base_uri": "https://localhost:8080/",
          "height": 71
        }
      },
      "cell_type": "code",
      "source": [
        "from statsmodels.tsa.vector_ar.var_model import VAR"
      ],
      "execution_count": 0,
      "outputs": [
        {
          "output_type": "stream",
          "text": [
            "/usr/local/lib/python3.6/dist-packages/statsmodels/compat/pandas.py:56: FutureWarning: The pandas.core.datetools module is deprecated and will be removed in a future version. Please use the pandas.tseries module instead.\n",
            "  from pandas.core import datetools\n"
          ],
          "name": "stderr"
        }
      ]
    },
    {
      "metadata": {
        "id": "jD7ZbdGSFPyV",
        "colab_type": "code",
        "colab": {}
      },
      "cell_type": "code",
      "source": [
        "train = np.asarray(features_onehot[:int(0.8*(len(features_onehot)))])\n",
        "valid = np.asarray(features_onehot[int(0.8*(len(features_onehot))):])\n"
      ],
      "execution_count": 0,
      "outputs": []
    },
    {
      "metadata": {
        "id": "AXyafFH1Fil4",
        "colab_type": "code",
        "outputId": "51104b52-4e31-40ad-84b1-9c0889197894",
        "colab": {
          "base_uri": "https://localhost:8080/",
          "height": 88
        }
      },
      "cell_type": "code",
      "source": [
        "model = VAR(endog=train)\n",
        "model_fit = model.fit()"
      ],
      "execution_count": 0,
      "outputs": [
        {
          "output_type": "stream",
          "text": [
            "/usr/local/lib/python3.6/dist-packages/statsmodels/tsa/vector_ar/var_model.py:461: FutureWarning: `rcond` parameter will change to the default of machine precision times ``max(M, N)`` where M and N are the input matrix dimensions.\n",
            "To use the future default and silence this warning we advise to pass `rcond=None`, to keep using the old, explicitly pass `rcond=-1`.\n",
            "  params = np.linalg.lstsq(z, y_sample)[0]\n"
          ],
          "name": "stderr"
        }
      ]
    },
    {
      "metadata": {
        "id": "tG38dBIGFoE_",
        "colab_type": "code",
        "colab": {}
      },
      "cell_type": "code",
      "source": [
        "prediction = model_fit.forecast(model_fit.y, steps=10)"
      ],
      "execution_count": 0,
      "outputs": []
    },
    {
      "metadata": {
        "id": "r51xwEa1GmHA",
        "colab_type": "code",
        "outputId": "d3411e08-c445-4c91-d90a-4b12d0f8c5ae",
        "colab": {
          "base_uri": "https://localhost:8080/",
          "height": 34
        }
      },
      "cell_type": "code",
      "source": [
        "len(prediction)"
      ],
      "execution_count": 0,
      "outputs": [
        {
          "output_type": "execute_result",
          "data": {
            "text/plain": [
              "10"
            ]
          },
          "metadata": {
            "tags": []
          },
          "execution_count": 69
        }
      ]
    },
    {
      "metadata": {
        "id": "LjWmg7okGnpH",
        "colab_type": "code",
        "colab": {}
      },
      "cell_type": "code",
      "source": [
        "pred = pd.DataFrame(index=range(0,len(prediction)),columns=list(features_onehot.columns.values))\n",
        "for j in range(0,13):\n",
        "    for i in range(0, len(prediction)):\n",
        "       pred.iloc[i][j] = prediction[i][j]\n"
      ],
      "execution_count": 0,
      "outputs": []
    },
    {
      "metadata": {
        "id": "jSUEgvQnGvLf",
        "colab_type": "code",
        "outputId": "e3ee719d-6488-48d4-bd8b-561494ef5f8c",
        "colab": {
          "base_uri": "https://localhost:8080/",
          "height": 270
        }
      },
      "cell_type": "code",
      "source": [
        "pred.head()"
      ],
      "execution_count": 0,
      "outputs": [
        {
          "output_type": "execute_result",
          "data": {
            "text/html": [
              "<div>\n",
              "<style scoped>\n",
              "    .dataframe tbody tr th:only-of-type {\n",
              "        vertical-align: middle;\n",
              "    }\n",
              "\n",
              "    .dataframe tbody tr th {\n",
              "        vertical-align: top;\n",
              "    }\n",
              "\n",
              "    .dataframe thead th {\n",
              "        text-align: right;\n",
              "    }\n",
              "</style>\n",
              "<table border=\"1\" class=\"dataframe\">\n",
              "  <thead>\n",
              "    <tr style=\"text-align: right;\">\n",
              "      <th></th>\n",
              "      <th>data__x0_Battles</th>\n",
              "      <th>data__x0_Explosions/Remote violence</th>\n",
              "      <th>data__x0_Protests</th>\n",
              "      <th>data__x0_Riots</th>\n",
              "      <th>data__x0_Strategic development</th>\n",
              "      <th>data__x0_Strategic developments</th>\n",
              "      <th>data__x0_Violence against civilians</th>\n",
              "      <th>data__x1_Abduction/forced disappearance</th>\n",
              "      <th>data__x1_Agreement</th>\n",
              "      <th>data__x1_Armed clash</th>\n",
              "      <th>...</th>\n",
              "      <th>data__x4_Puducherry</th>\n",
              "      <th>data__x4_Punjab</th>\n",
              "      <th>data__x4_Rajasthan</th>\n",
              "      <th>data__x4_Sikkim</th>\n",
              "      <th>data__x4_Tamil Nadu</th>\n",
              "      <th>data__x4_Telangana</th>\n",
              "      <th>data__x4_Tripura</th>\n",
              "      <th>data__x4_Uttar Pradesh</th>\n",
              "      <th>data__x4_Uttarakhand</th>\n",
              "      <th>data__x4_West Bengal</th>\n",
              "    </tr>\n",
              "  </thead>\n",
              "  <tbody>\n",
              "    <tr>\n",
              "      <th>0</th>\n",
              "      <td>0.0197449</td>\n",
              "      <td>0.00613785</td>\n",
              "      <td>0.854431</td>\n",
              "      <td>0.0997314</td>\n",
              "      <td>0.000365615</td>\n",
              "      <td>0.00634766</td>\n",
              "      <td>0.0132294</td>\n",
              "      <td>0.000101089</td>\n",
              "      <td>5.56633e-05</td>\n",
              "      <td>0.0194092</td>\n",
              "      <td>...</td>\n",
              "      <td>NaN</td>\n",
              "      <td>NaN</td>\n",
              "      <td>NaN</td>\n",
              "      <td>NaN</td>\n",
              "      <td>NaN</td>\n",
              "      <td>NaN</td>\n",
              "      <td>NaN</td>\n",
              "      <td>NaN</td>\n",
              "      <td>NaN</td>\n",
              "      <td>NaN</td>\n",
              "    </tr>\n",
              "    <tr>\n",
              "      <th>1</th>\n",
              "      <td>2.16384e+09</td>\n",
              "      <td>8.62962e+08</td>\n",
              "      <td>-1.85174e+09</td>\n",
              "      <td>9.15553e+09</td>\n",
              "      <td>-1.16616e+08</td>\n",
              "      <td>-7.87057e+09</td>\n",
              "      <td>-2.3434e+09</td>\n",
              "      <td>7.37343e+07</td>\n",
              "      <td>7.56163e+06</td>\n",
              "      <td>2.16525e+09</td>\n",
              "      <td>...</td>\n",
              "      <td>NaN</td>\n",
              "      <td>NaN</td>\n",
              "      <td>NaN</td>\n",
              "      <td>NaN</td>\n",
              "      <td>NaN</td>\n",
              "      <td>NaN</td>\n",
              "      <td>NaN</td>\n",
              "      <td>NaN</td>\n",
              "      <td>NaN</td>\n",
              "      <td>NaN</td>\n",
              "    </tr>\n",
              "    <tr>\n",
              "      <th>2</th>\n",
              "      <td>5.89293e+08</td>\n",
              "      <td>3.37274e+08</td>\n",
              "      <td>2.42995e+08</td>\n",
              "      <td>1.8243e+10</td>\n",
              "      <td>1.33947e+08</td>\n",
              "      <td>-1.47826e+10</td>\n",
              "      <td>-4.75349e+09</td>\n",
              "      <td>1.02223e+08</td>\n",
              "      <td>8.20673e+06</td>\n",
              "      <td>5.82576e+08</td>\n",
              "      <td>...</td>\n",
              "      <td>NaN</td>\n",
              "      <td>NaN</td>\n",
              "      <td>NaN</td>\n",
              "      <td>NaN</td>\n",
              "      <td>NaN</td>\n",
              "      <td>NaN</td>\n",
              "      <td>NaN</td>\n",
              "      <td>NaN</td>\n",
              "      <td>NaN</td>\n",
              "      <td>NaN</td>\n",
              "    </tr>\n",
              "    <tr>\n",
              "      <th>3</th>\n",
              "      <td>-1.02783e+19</td>\n",
              "      <td>-4.76533e+18</td>\n",
              "      <td>2.71196e+18</td>\n",
              "      <td>-1.35605e+19</td>\n",
              "      <td>3.31656e+17</td>\n",
              "      <td>-2.05564e+19</td>\n",
              "      <td>4.6117e+19</td>\n",
              "      <td>-8.12103e+17</td>\n",
              "      <td>8.08989e+16</td>\n",
              "      <td>-1.02797e+19</td>\n",
              "      <td>...</td>\n",
              "      <td>NaN</td>\n",
              "      <td>NaN</td>\n",
              "      <td>NaN</td>\n",
              "      <td>NaN</td>\n",
              "      <td>NaN</td>\n",
              "      <td>NaN</td>\n",
              "      <td>NaN</td>\n",
              "      <td>NaN</td>\n",
              "      <td>NaN</td>\n",
              "      <td>NaN</td>\n",
              "    </tr>\n",
              "    <tr>\n",
              "      <th>4</th>\n",
              "      <td>-5.32624e+19</td>\n",
              "      <td>-3.95568e+19</td>\n",
              "      <td>3.29866e+19</td>\n",
              "      <td>-1.8694e+20</td>\n",
              "      <td>1.24292e+18</td>\n",
              "      <td>5.72092e+19</td>\n",
              "      <td>1.88384e+20</td>\n",
              "      <td>-4.66424e+18</td>\n",
              "      <td>-1.44784e+17</td>\n",
              "      <td>-5.33187e+19</td>\n",
              "      <td>...</td>\n",
              "      <td>NaN</td>\n",
              "      <td>NaN</td>\n",
              "      <td>NaN</td>\n",
              "      <td>NaN</td>\n",
              "      <td>NaN</td>\n",
              "      <td>NaN</td>\n",
              "      <td>NaN</td>\n",
              "      <td>NaN</td>\n",
              "      <td>NaN</td>\n",
              "      <td>NaN</td>\n",
              "    </tr>\n",
              "  </tbody>\n",
              "</table>\n",
              "<p>5 rows × 518 columns</p>\n",
              "</div>"
            ],
            "text/plain": [
              "  data__x0_Battles data__x0_Explosions/Remote violence data__x0_Protests  \\\n",
              "0        0.0197449                          0.00613785          0.854431   \n",
              "1      2.16384e+09                         8.62962e+08      -1.85174e+09   \n",
              "2      5.89293e+08                         3.37274e+08       2.42995e+08   \n",
              "3     -1.02783e+19                        -4.76533e+18       2.71196e+18   \n",
              "4     -5.32624e+19                        -3.95568e+19       3.29866e+19   \n",
              "\n",
              "  data__x0_Riots data__x0_Strategic development  \\\n",
              "0      0.0997314                    0.000365615   \n",
              "1    9.15553e+09                   -1.16616e+08   \n",
              "2     1.8243e+10                    1.33947e+08   \n",
              "3   -1.35605e+19                    3.31656e+17   \n",
              "4    -1.8694e+20                    1.24292e+18   \n",
              "\n",
              "  data__x0_Strategic developments data__x0_Violence against civilians  \\\n",
              "0                      0.00634766                           0.0132294   \n",
              "1                    -7.87057e+09                         -2.3434e+09   \n",
              "2                    -1.47826e+10                        -4.75349e+09   \n",
              "3                    -2.05564e+19                          4.6117e+19   \n",
              "4                     5.72092e+19                         1.88384e+20   \n",
              "\n",
              "  data__x1_Abduction/forced disappearance data__x1_Agreement  \\\n",
              "0                             0.000101089        5.56633e-05   \n",
              "1                             7.37343e+07        7.56163e+06   \n",
              "2                             1.02223e+08        8.20673e+06   \n",
              "3                            -8.12103e+17        8.08989e+16   \n",
              "4                            -4.66424e+18       -1.44784e+17   \n",
              "\n",
              "  data__x1_Armed clash         ...          data__x4_Puducherry  \\\n",
              "0            0.0194092         ...                          NaN   \n",
              "1          2.16525e+09         ...                          NaN   \n",
              "2          5.82576e+08         ...                          NaN   \n",
              "3         -1.02797e+19         ...                          NaN   \n",
              "4         -5.33187e+19         ...                          NaN   \n",
              "\n",
              "  data__x4_Punjab data__x4_Rajasthan data__x4_Sikkim data__x4_Tamil Nadu  \\\n",
              "0             NaN                NaN             NaN                 NaN   \n",
              "1             NaN                NaN             NaN                 NaN   \n",
              "2             NaN                NaN             NaN                 NaN   \n",
              "3             NaN                NaN             NaN                 NaN   \n",
              "4             NaN                NaN             NaN                 NaN   \n",
              "\n",
              "  data__x4_Telangana data__x4_Tripura data__x4_Uttar Pradesh  \\\n",
              "0                NaN              NaN                    NaN   \n",
              "1                NaN              NaN                    NaN   \n",
              "2                NaN              NaN                    NaN   \n",
              "3                NaN              NaN                    NaN   \n",
              "4                NaN              NaN                    NaN   \n",
              "\n",
              "  data__x4_Uttarakhand data__x4_West Bengal  \n",
              "0                  NaN                  NaN  \n",
              "1                  NaN                  NaN  \n",
              "2                  NaN                  NaN  \n",
              "3                  NaN                  NaN  \n",
              "4                  NaN                  NaN  \n",
              "\n",
              "[5 rows x 518 columns]"
            ]
          },
          "metadata": {
            "tags": []
          },
          "execution_count": 66
        }
      ]
    },
    {
      "metadata": {
        "id": "i-m2xfi1I4L2",
        "colab_type": "code",
        "outputId": "168eae61-7980-4d80-89e8-755695b8ca05",
        "colab": {
          "base_uri": "https://localhost:8080/",
          "height": 136
        }
      },
      "cell_type": "code",
      "source": [
        "valid"
      ],
      "execution_count": 0,
      "outputs": [
        {
          "output_type": "execute_result",
          "data": {
            "text/plain": [
              "array([[0., 0., 1., ..., 0., 0., 0.],\n",
              "       [0., 0., 1., ..., 0., 0., 0.],\n",
              "       [0., 0., 1., ..., 0., 0., 0.],\n",
              "       ...,\n",
              "       [0., 0., 1., ..., 0., 0., 0.],\n",
              "       [0., 0., 1., ..., 0., 0., 0.],\n",
              "       [0., 0., 1., ..., 0., 0., 0.]])"
            ]
          },
          "metadata": {
            "tags": []
          },
          "execution_count": 68
        }
      ]
    },
    {
      "metadata": {
        "id": "0VXAmXTOHBgn",
        "colab_type": "code",
        "outputId": "d669f76d-1154-4f19-8e32-b98f768b4006",
        "colab": {
          "base_uri": "https://localhost:8080/",
          "height": 180
        }
      },
      "cell_type": "code",
      "source": [
        "for i in list(features_onehot.columns.values):\n",
        "    print('rmse value for', i, 'is : ', math.sqrt(mean_squared_error(pred[i], valid[i])))"
      ],
      "execution_count": 0,
      "outputs": [
        {
          "output_type": "error",
          "ename": "IndexError",
          "evalue": "ignored",
          "traceback": [
            "\u001b[0;31m---------------------------------------------------------------------------\u001b[0m",
            "\u001b[0;31mIndexError\u001b[0m                                Traceback (most recent call last)",
            "\u001b[0;32m<ipython-input-54-e7c21229e59d>\u001b[0m in \u001b[0;36m<module>\u001b[0;34m()\u001b[0m\n\u001b[1;32m      1\u001b[0m \u001b[0;32mfor\u001b[0m \u001b[0mi\u001b[0m \u001b[0;32min\u001b[0m \u001b[0mlist\u001b[0m\u001b[0;34m(\u001b[0m\u001b[0mfeatures_onehot\u001b[0m\u001b[0;34m.\u001b[0m\u001b[0mcolumns\u001b[0m\u001b[0;34m.\u001b[0m\u001b[0mvalues\u001b[0m\u001b[0;34m)\u001b[0m\u001b[0;34m:\u001b[0m\u001b[0;34m\u001b[0m\u001b[0;34m\u001b[0m\u001b[0m\n\u001b[0;32m----> 2\u001b[0;31m     \u001b[0mprint\u001b[0m\u001b[0;34m(\u001b[0m\u001b[0;34m'rmse value for'\u001b[0m\u001b[0;34m,\u001b[0m \u001b[0mi\u001b[0m\u001b[0;34m,\u001b[0m \u001b[0;34m'is : '\u001b[0m\u001b[0;34m,\u001b[0m \u001b[0mmath\u001b[0m\u001b[0;34m.\u001b[0m\u001b[0msqrt\u001b[0m\u001b[0;34m(\u001b[0m\u001b[0mmean_squared_error\u001b[0m\u001b[0;34m(\u001b[0m\u001b[0mpred\u001b[0m\u001b[0;34m[\u001b[0m\u001b[0mi\u001b[0m\u001b[0;34m]\u001b[0m\u001b[0;34m,\u001b[0m \u001b[0mvalid\u001b[0m\u001b[0;34m[\u001b[0m\u001b[0mi\u001b[0m\u001b[0;34m]\u001b[0m\u001b[0;34m)\u001b[0m\u001b[0;34m)\u001b[0m\u001b[0;34m)\u001b[0m\u001b[0;34m\u001b[0m\u001b[0;34m\u001b[0m\u001b[0m\n\u001b[0m",
            "\u001b[0;31mIndexError\u001b[0m: only integers, slices (`:`), ellipsis (`...`), numpy.newaxis (`None`) and integer or boolean arrays are valid indices"
          ]
        }
      ]
    },
    {
      "metadata": {
        "id": "UPSnHs25HLur",
        "colab_type": "code",
        "colab": {}
      },
      "cell_type": "code",
      "source": [
        ""
      ],
      "execution_count": 0,
      "outputs": []
    },
    {
      "metadata": {
        "id": "7ORCnlWkHl6e",
        "colab_type": "code",
        "colab": {}
      },
      "cell_type": "code",
      "source": [
        "# Nice name"
      ],
      "execution_count": 0,
      "outputs": []
    },
    {
      "metadata": {
        "id": "9mCyTog8Qy8r",
        "colab_type": "code",
        "colab": {}
      },
      "cell_type": "code",
      "source": [
        ""
      ],
      "execution_count": 0,
      "outputs": []
    }
  ]
}